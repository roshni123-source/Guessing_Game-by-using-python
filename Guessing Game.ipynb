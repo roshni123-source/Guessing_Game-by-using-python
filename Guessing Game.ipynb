{
 "cells": [
  {
   "cell_type": "code",
   "execution_count": 9,
   "id": "e6488ccd",
   "metadata": {},
   "outputs": [
    {
     "name": "stdout",
     "output_type": "stream",
     "text": [
      "guess number:6\n",
      "guess number:8\n",
      "guess number:0\n",
      "You loss\n"
     ]
    }
   ],
   "source": [
    "# Guessing Game\n",
    "# Guess secret number is 5\n",
    "guess_secret=5\n",
    "# Guess turn start from zero\n",
    "guess_turn=0\n",
    "# limit of guessing is 3\n",
    "guess_limit=3\n",
    "while guess_turn<guess_limit:\n",
    "    guess=int(input('guess number:'))\n",
    "    guess_turn=guess_turn+1\n",
    "    if guess==guess_secret:\n",
    "        print('hey you won')\n",
    "        break\n",
    "else:\n",
    "    print('You loss')"
   ]
  }
 ],
 "metadata": {
  "kernelspec": {
   "display_name": "Python 3",
   "language": "python",
   "name": "python3"
  },
  "language_info": {
   "codemirror_mode": {
    "name": "ipython",
    "version": 3
   },
   "file_extension": ".py",
   "mimetype": "text/x-python",
   "name": "python",
   "nbconvert_exporter": "python",
   "pygments_lexer": "ipython3",
   "version": "3.8.8"
  }
 },
 "nbformat": 4,
 "nbformat_minor": 5
}
